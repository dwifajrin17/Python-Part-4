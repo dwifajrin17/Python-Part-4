{
 "cells": [
  {
   "cell_type": "markdown",
   "id": "e3b36e4d",
   "metadata": {},
   "source": [
    "Pandas data series \n",
    "\n",
    "A pandas Series is like a column in a table, it is a one-dimensional array holding data of any type"
   ]
  },
  {
   "cell_type": "code",
   "execution_count": 1,
   "id": "57311bb3",
   "metadata": {},
   "outputs": [],
   "source": [
    "import pandas as pd\n",
    "import numpy as np"
   ]
  },
  {
   "cell_type": "code",
   "execution_count": 2,
   "id": "9e3866eb",
   "metadata": {},
   "outputs": [],
   "source": [
    "b = pd.Series(['wan', 'to', 'tri', 4, 5, 6, 7], \n",
    "              index=[10, 20, 3, 40, 50, 60, 70])"
   ]
  },
  {
   "cell_type": "code",
   "execution_count": 3,
   "id": "95b08726",
   "metadata": {},
   "outputs": [
    {
     "data": {
      "text/plain": [
       "10    wan\n",
       "20     to\n",
       "3     tri\n",
       "40      4\n",
       "50      5\n",
       "60      6\n",
       "70      7\n",
       "dtype: object"
      ]
     },
     "execution_count": 3,
     "metadata": {},
     "output_type": "execute_result"
    }
   ],
   "source": [
    "b"
   ]
  },
  {
   "cell_type": "code",
   "execution_count": 4,
   "id": "c82af103",
   "metadata": {},
   "outputs": [
    {
     "data": {
      "text/plain": [
       "'tri'"
      ]
     },
     "execution_count": 4,
     "metadata": {},
     "output_type": "execute_result"
    }
   ],
   "source": [
    "#call the element by label '3', \n",
    "#it is called by explisit index, the index we custom\n",
    "\n",
    "b[3]"
   ]
  },
  {
   "cell_type": "code",
   "execution_count": 5,
   "id": "291c058e",
   "metadata": {},
   "outputs": [
    {
     "data": {
      "text/plain": [
       "20     to\n",
       "3     tri\n",
       "dtype: object"
      ]
     },
     "execution_count": 5,
     "metadata": {},
     "output_type": "execute_result"
    }
   ],
   "source": [
    "#slicing 2 parameters, \n",
    "#it is called by implisit index (inclusive)\n",
    "\n",
    "b[1:3]"
   ]
  },
  {
   "cell_type": "markdown",
   "id": "f4bfb5ec",
   "metadata": {},
   "source": [
    "Loc and iloc\n",
    "\n",
    "loc is label-based, which means that you have to specify rows and columns based on their row and column labels\n",
    "\n",
    "\n",
    "iloc is integer position-based, so you have to specify rows and columns by their integer position values (0-based integer position)"
   ]
  },
  {
   "cell_type": "code",
   "execution_count": 6,
   "id": "a0461621",
   "metadata": {},
   "outputs": [
    {
     "data": {
      "text/plain": [
       "'wan'"
      ]
     },
     "execution_count": 6,
     "metadata": {},
     "output_type": "execute_result"
    }
   ],
   "source": [
    "#using loc, it is called by the label or index we custom\n",
    "\n",
    "b.loc[10]"
   ]
  },
  {
   "cell_type": "code",
   "execution_count": 7,
   "id": "07aa985a",
   "metadata": {},
   "outputs": [
    {
     "data": {
      "text/plain": [
       "4"
      ]
     },
     "execution_count": 7,
     "metadata": {},
     "output_type": "execute_result"
    }
   ],
   "source": [
    "b.loc[40]"
   ]
  },
  {
   "cell_type": "code",
   "execution_count": 8,
   "id": "22cd86ab",
   "metadata": {},
   "outputs": [
    {
     "data": {
      "text/plain": [
       "10    wan\n",
       "20     to\n",
       "3     tri\n",
       "dtype: object"
      ]
     },
     "execution_count": 8,
     "metadata": {},
     "output_type": "execute_result"
    }
   ],
   "source": [
    "b.loc[10:3]"
   ]
  },
  {
   "cell_type": "code",
   "execution_count": 9,
   "id": "cbd70f0c",
   "metadata": {},
   "outputs": [
    {
     "data": {
      "text/plain": [
       "10    wan\n",
       "3     tri\n",
       "50      5\n",
       "70      7\n",
       "dtype: object"
      ]
     },
     "execution_count": 9,
     "metadata": {},
     "output_type": "execute_result"
    }
   ],
   "source": [
    "#using loc, the index we called is exclusive\n",
    "\n",
    "b.loc[10:70:2]"
   ]
  },
  {
   "cell_type": "code",
   "execution_count": 10,
   "id": "601abf7a",
   "metadata": {},
   "outputs": [
    {
     "data": {
      "text/plain": [
       "4"
      ]
     },
     "execution_count": 10,
     "metadata": {},
     "output_type": "execute_result"
    }
   ],
   "source": [
    "#using iloc, the index we called is inclusive\n",
    "\n",
    "b.iloc[3]"
   ]
  },
  {
   "cell_type": "code",
   "execution_count": 11,
   "id": "6d1917b2",
   "metadata": {},
   "outputs": [
    {
     "data": {
      "text/plain": [
       "20     to\n",
       "3     tri\n",
       "dtype: object"
      ]
     },
     "execution_count": 11,
     "metadata": {},
     "output_type": "execute_result"
    }
   ],
   "source": [
    "b.iloc[1:3]"
   ]
  },
  {
   "cell_type": "code",
   "execution_count": 12,
   "id": "794fb180",
   "metadata": {},
   "outputs": [
    {
     "data": {
      "text/plain": [
       "10    wan\n",
       "3     tri\n",
       "50      5\n",
       "70      7\n",
       "dtype: object"
      ]
     },
     "execution_count": 12,
     "metadata": {},
     "output_type": "execute_result"
    }
   ],
   "source": [
    "b.iloc[::2]"
   ]
  },
  {
   "cell_type": "markdown",
   "id": "c3205655",
   "metadata": {},
   "source": [
    "Make pandas data series from dictionary\n",
    "\n",
    "the 'key' from dictionary would be the explisit index"
   ]
  },
  {
   "cell_type": "code",
   "execution_count": 13,
   "id": "128769d5",
   "metadata": {},
   "outputs": [],
   "source": [
    "dict_tb = {'nia': 150,\n",
    "            'gita': 160,\n",
    "            'andini': 170,\n",
    "            'alif': 180,\n",
    "            'nabila' : 190}"
   ]
  },
  {
   "cell_type": "code",
   "execution_count": 14,
   "id": "a86f5d0f",
   "metadata": {},
   "outputs": [],
   "source": [
    "tb=pd.Series(dict_tb)"
   ]
  },
  {
   "cell_type": "code",
   "execution_count": 15,
   "id": "c05246e3",
   "metadata": {},
   "outputs": [
    {
     "data": {
      "text/plain": [
       "nia       150\n",
       "gita      160\n",
       "andini    170\n",
       "alif      180\n",
       "nabila    190\n",
       "dtype: int64"
      ]
     },
     "execution_count": 15,
     "metadata": {},
     "output_type": "execute_result"
    }
   ],
   "source": [
    "tb"
   ]
  },
  {
   "cell_type": "code",
   "execution_count": 16,
   "id": "b6453150",
   "metadata": {},
   "outputs": [
    {
     "data": {
      "text/plain": [
       "150"
      ]
     },
     "execution_count": 16,
     "metadata": {},
     "output_type": "execute_result"
    }
   ],
   "source": [
    "tb.loc['nia']"
   ]
  },
  {
   "cell_type": "code",
   "execution_count": 17,
   "id": "fcf9eb29",
   "metadata": {},
   "outputs": [],
   "source": [
    "dict_bb = {'nia': 50,\n",
    "            'gita': 60,\n",
    "            'andini': 70,\n",
    "            'alif': 80,\n",
    "            'nabila' : 90}"
   ]
  },
  {
   "cell_type": "code",
   "execution_count": 18,
   "id": "722a012b",
   "metadata": {},
   "outputs": [],
   "source": [
    "bb=pd.Series(dict_bb)"
   ]
  },
  {
   "cell_type": "code",
   "execution_count": 19,
   "id": "4bf868c8",
   "metadata": {},
   "outputs": [
    {
     "data": {
      "text/plain": [
       "nia       50\n",
       "gita      60\n",
       "andini    70\n",
       "alif      80\n",
       "nabila    90\n",
       "dtype: int64"
      ]
     },
     "execution_count": 19,
     "metadata": {},
     "output_type": "execute_result"
    }
   ],
   "source": [
    "bb"
   ]
  },
  {
   "cell_type": "code",
   "execution_count": 20,
   "id": "623501d8",
   "metadata": {},
   "outputs": [
    {
     "data": {
      "text/plain": [
       "90"
      ]
     },
     "execution_count": 20,
     "metadata": {},
     "output_type": "execute_result"
    }
   ],
   "source": [
    "bb.loc['nabila']"
   ]
  },
  {
   "cell_type": "code",
   "execution_count": null,
   "id": "d6c4c485",
   "metadata": {},
   "outputs": [],
   "source": []
  }
 ],
 "metadata": {
  "kernelspec": {
   "display_name": "Python 3 (ipykernel)",
   "language": "python",
   "name": "python3"
  },
  "language_info": {
   "codemirror_mode": {
    "name": "ipython",
    "version": 3
   },
   "file_extension": ".py",
   "mimetype": "text/x-python",
   "name": "python",
   "nbconvert_exporter": "python",
   "pygments_lexer": "ipython3",
   "version": "3.9.12"
  }
 },
 "nbformat": 4,
 "nbformat_minor": 5
}
